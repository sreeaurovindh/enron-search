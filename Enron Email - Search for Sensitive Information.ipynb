{
 "cells": [
  {
   "cell_type": "markdown",
   "metadata": {},
   "source": [
    "![Enron Banner](img/Enron_banner.JPG)"
   ]
  },
  {
   "cell_type": "markdown",
   "metadata": {},
   "source": [
    "\n",
    "## Project Description:\n",
    "\n",
    "Enron email dataset was used to understand the nature of false positives in a proprietary software system which was capable of recognizing personally identifiable information present in email data.The proprietary system tagged emails  based on complex set of rules and regular expression matches.However, the system had lots of false positives.\n",
    "\n",
    "They wanted to build a supervised machine learning model that can categorize emails more accurately. The major issue here was to identify  postive samples that contain PII information. Hence we devised a methodology to intelligently identify sub groups of emails based on the lingusitic information so that it can be used to extract samples(positve) which can be used to develop supervised machine learning models.\n",
    "\n",
    "* Data Description : Meta data about each email was present in the form of raw text files along with tag information.   \n",
    "\n",
    "* Goal: The goal of the project was to identify sub groups of email data that are probable candidates for true positives  \n",
    "\n",
    "* Model :Word2vec is a group of related models that are used to produce word embeddings. These models are shallow, two-layer neural networks that are trained to reconstruct linguistic contexts of words. Word2vec takes as its input a large corpus of text and produces a vector space, typically of several hundred dimensions, with each unique word in the corpus being assigned a corresponding vector in the space. Word vectors are positioned in the vector space such that words that share common contexts in the corpus are located in close proximity to one another in the space [Wikipedia]  \n",
    "\n",
    "* Results:  Five prominent Clusters of data were identified using the Word2Vec Model.\n",
    "\n",
    "Those include\n",
    "\n",
    "1. Government Information\n",
    "2. Enron Operation\n",
    "3. Legal Agreements\n",
    "4. Stocks, Bonds and Traded Securities\n",
    "5. People\n",
    "\n",
    "These highlevel categories would possibly include most of the True positives in the dataset. \n",
    "  \n",
    "A detailed information about how the information was processed and the words associated with these categories present in the email are desribed in this document. The set of words that comprise of these categories are listed in the results section"
   ]
  },
  {
   "cell_type": "markdown",
   "metadata": {},
   "source": [
    "## Data Preprocessing\n",
    "\n",
    "The data from raw text files were read and an Solr Index was created inorder to perform advanced text search. The following code segment describes preprocessing performed on the raw data."
   ]
  },
  {
   "cell_type": "code",
   "execution_count": null,
   "metadata": {
    "collapsed": true
   },
   "outputs": [],
   "source": [
    " import os\n",
    " import json\n",
    " import pysolr\n",
    " \n",
    " def jsonify_and_write_solr():\n",
    "     \"\"\"\n",
    "     This function creates a json file and dumps it into solr server.\n",
    "     \"\"\"\n",
    "\n",
    "     solr = pysolr.Solr('http://localhost:8983/solr/Enron_V1', timeout=10)\n",
    "     solr.delete(q='*:*')\n",
    "     input_solr = None\n",
    "     outputs = {}\n",
    "     rootdir='/home/mlguru/ml/data/'\n",
    "     count = 0\n",
    "     for folder, subs, files in os.walk(rootdir):\n",
    "         for filename in files:\n",
    "             if input_solr != None:\n",
    "                 solr.add([json.loads(input_solr)])\n",
    "                 input_solr = None\n",
    "\n",
    "             with open(folder+filename,'r',encoding='UTF-16') as in_file:\n",
    "                 data = {}\n",
    "                 input_solr = None\n",
    "                 for text_data in in_file:\n",
    "                     field_par = text_data.rstrip('\\n').split(\":\",1)\n",
    "                    # print(field_par)\n",
    "                     if 'category' in data:\n",
    "                         data['category'].append(field_par[1])\n",
    "                     else:\n",
    "                         data['category']= [field_par[1]]\n",
    "                     if field_par[0] == 'cont':\n",
    "                         data['cont'] = field_par[1]\n",
    "\n",
    "\n",
    "                 data[\"id\"] = filename\n",
    "                 if \"category\" not in data:\n",
    "                     input_solr = None\n",
    "                 else:\n",
    "                     input_solr = json.dumps(data)\n",
    "                 count = count + 1\n",
    "                 print(\"[Processed: \",filename,\" ]\")\n",
    "     for key in outputs:\n",
    "         print(\"Tag:\",key,outputs[key])\n",
    "\n",
    " \n"
   ]
  },
  {
   "cell_type": "markdown",
   "metadata": {},
   "source": [
    "## Extraction of PII documents from Solr Index\n",
    "\n",
    "From the Solr Index , messages are extracted by type and stored in a python dataframe"
   ]
  },
  {
   "cell_type": "code",
   "execution_count": 153,
   "metadata": {},
   "outputs": [
    {
     "name": "stdout",
     "output_type": "stream",
     "text": [
      "Total Documents Found 2797\n"
     ]
    }
   ],
   "source": [
    "import requests\n",
    "import json\n",
    "\n",
    "url = \"http://localhost:8983/solr/Enron_V1/select\"\n",
    "params ={\n",
    "    'q':'category:PII',\n",
    "    'fl':'category,cont',\n",
    "    'wt':'json',\n",
    "    'rows':'10000'\n",
    "}\n",
    "resp = requests.get(url,params)\n",
    "content = json.loads(resp.content.decode(\"utf-8\"))\n",
    "documents = content['response']['docs']\n",
    "print \"Total Documents Found\",len(documents)\n"
   ]
  },
  {
   "cell_type": "markdown",
   "metadata": {},
   "source": [
    "## Data Exploration ##\n",
    "PII policy had other related sub tags that came along with the policy. So We attempted to strip off PII as it is present in all the sub tags. However, most of the tags only contained \"PII\" and did not contain any subtags at all. The below code and chart describes the distribution of the tags."
   ]
  },
  {
   "cell_type": "code",
   "execution_count": 154,
   "metadata": {
    "collapsed": true
   },
   "outputs": [],
   "source": [
    "\n",
    "tag_dict  = {'PII':0}\n",
    "for element in documents:\n",
    "    if len(element['category']) == 1:\n",
    "        tag_dict['PII'] += 1\n",
    "        continue\n",
    "            \n",
    "    for tag in element['category']:\n",
    "        if tag != 'PII':\n",
    "            if tag in tag_dict:\n",
    "                tag_dict[tag] += 1\n",
    "            else:\n",
    "                tag_dict[tag] = 1"
   ]
  },
  {
   "cell_type": "code",
   "execution_count": 155,
   "metadata": {},
   "outputs": [
    {
     "data": {
      "image/png": "[encoded data removed]",
      "text/plain": [
       "<matplotlib.figure.Figure at 0x7fb93f314f50>"
      ]
     },
     "metadata": {},
     "output_type": "display_data"
    }
   ],
   "source": [
    "%matplotlib inline\n",
    "import pandas as pd\n",
    "import seaborn as sns\n",
    "tag_df = pd.DataFrame.from_dict(tag_dict,orient=\"index\")\n",
    "tag_df['tag_names'] = tag_df.index\n",
    "tag_df.columns =['Count','tag_names']\n",
    "sns.set(style=\"darkgrid\")\n",
    "barplot_g= sns.barplot(x=\"tag_names\",y=\"Count\",data=tag_df)\n",
    "for item in barplot_g.get_xticklabels():\n",
    "    item.set_rotation(90)"
   ]
  },
  {
   "cell_type": "markdown",
   "metadata": {},
   "source": [
    "This plot clearly shows that PII policy occured by itself in around 2400 cases. In order to clearly see other tags that occurs with PII, PII tag information was removed and the bar graph was plotted."
   ]
  },
  {
   "cell_type": "code",
   "execution_count": 156,
   "metadata": {},
   "outputs": [
    {
     "data": {
      "image/png": "[encoded data removed]",
      "text/plain": [
       "<matplotlib.figure.Figure at 0x7fb94119c510>"
      ]
     },
     "metadata": {},
     "output_type": "display_data"
    }
   ],
   "source": [
    "tag_df = tag_df.drop(['PII'])\n",
    "barplot_g= sns.barplot(x=\"tag_names\",y=\"Count\",data=tag_df)\n",
    "for item in barplot_g.get_xticklabels():\n",
    "    item.set_rotation(90)"
   ]
  },
  {
   "cell_type": "markdown",
   "metadata": {},
   "source": [
    "### Data Cleaning ###"
   ]
  },
  {
   "cell_type": "markdown",
   "metadata": {},
   "source": [
    "The Word2Vec Model was built from the data  that contains PII tags. At the first step the email stopwords were removed from the data and was converted into sentences."
   ]
  },
  {
   "cell_type": "code",
   "execution_count": 157,
   "metadata": {
    "collapsed": true
   },
   "outputs": [],
   "source": [
    "import nltk\n",
    "\n",
    "\n",
    "def messages_to_sentences(message,tokenizer):\n",
    "    # Use NLTK tokenizer to convert Words \n",
    "    raw_sentences = tokenizer.tokenize(message.strip())\n",
    "    \n",
    "    # Convert to Lower Case\n",
    "    sentences = []\n",
    "    for raw_sentence in raw_sentences:\n",
    "        if len(raw_sentence) > 0:\n",
    "            lower_case_words = raw_sentence.lower().split()\n",
    "            email_stopwords = ['subject:',\"cc:\",\n",
    "                               'bcc:',\"-----original message-----\",\n",
    "                               \"from:\",\"to:\",\"re:\",\"am\",\"pm\"]\n",
    "            words = [w for w in lower_case_words if not w in email_stopwords]\n",
    "            sentences.append(words)\n",
    "            \n",
    "    return sentences\n",
    "            \n"
   ]
  },
  {
   "cell_type": "code",
   "execution_count": 158,
   "metadata": {
    "collapsed": true
   },
   "outputs": [],
   "source": [
    "sentences = []\n",
    "\n",
    "tokenizer = nltk.data.load('tokenizers/punkt/english.pickle')\n",
    "\n",
    "for document in documents:\n",
    "    if 'cont' in document:\n",
    "        sentences += messages_to_sentences(document['cont'],tokenizer)\n",
    "    #print(sentences)\n"
   ]
  },
  {
   "cell_type": "markdown",
   "metadata": {},
   "source": [
    "### Exploring Document and Sentence ### "
   ]
  },
  {
   "cell_type": "markdown",
   "metadata": {},
   "source": [
    "Exploring of documents and sentences can be explored  by   \n",
    "*  documents[1]   \n",
    "*  sentences[5]   \n",
    "\n",
    "The fololwing is one instance of false positive obtained from the enron dataset."
   ]
  },
  {
   "cell_type": "code",
   "execution_count": 285,
   "metadata": {},
   "outputs": [
    {
     "data": {
      "text/plain": [
       "{u'category': [u'PII'],\n",
       " u'cont': u'BTW = By the way. Putnam in Boston. it\\'s official. Vince -----Original Message----- From: Joseph T Pokalsky <energy.vertical@juno.com>@ENRON [mailto:IMCEANOTES-Joseph+20T+20Pokalsky+20+3Cenergy+2Evertical+40juno+2Ecom+3E+40ENRON@ENRON.com] Sent: Wednesday, June 20, 2001 12:10 PM To: Kaminski, Vince J Subject: Re: Catch Up Thanks. What does BTW mean? I assume \"between the wall and us\", I\\'ll keep it quite. Where is he going? On Wed, 20 Jun 2001 11:02:22 -0500 Vince.J.Kaminski@enron.com writes: > Joe, > > Here it is > > david_cox@enron.net > karen.owens@enron.com > > Gail ,evidently left Enron. Haven\\'t seen her in ages. > > > BTW, P. Bibi resigned. > > Vince > > -----Original Message----- > From: Joseph T Pokalsky <energy.vertical@juno.com>@ENRON > > [mailto:IMCEANOTES-Joseph+20T+20Pokalsky+20+3Cenergy+2Evertical+40juno+2E com+3E+40ENRON@ENRON.com] > > > Sent: Wednesday, June 20, 2001 7:34 AM > To: Kaminski, Vince J > Subject: Re: Catch Up > > Too bad. It would be good to catch up. Do you know the emails > for: > > David Cox, Karen Owens, Gail Bennett? I couldn\\'t find an e-mail > directory on Enron\\'s web site. > > Have a great trip, enjoy London. Thanks. > > > > On Tue, 19 Jun 2001 17:16:13 -0500 Vince.J.Kaminski@enron.com > writes: > > Joe, > > > > I could not find the issue. I think I have dumped all the > copies of > > the > > publication. > > I am in London next week. > > > > Vince > > > > -----Original Message----- > > From: Joseph T Pokalsky <energy.vertical@juno.com>@ENRON > > > > > > [mailto:IMCEANOTES-Joseph+20T+20Pokalsky+20+3Cenergy+2Evertical+40juno+2E > com+3E+40ENRON@ENRON.com] > > > > > > Sent: Tuesday, June 19, 2001 3:14 PM > > To: Kaminski, Vince J > > Subject: Catch Up > > > > Vince: > > > > I haven\\'t heard but I guess that you weren\\'t able to find > the > > article on > > my going to Southern. I may be in town the 26 and 27th of > next > > week. > > Will you be around? Do you want to meet up for bkfst or > lunch? > > Thanks. > > > > > > Joseph T. Pokalsky > > Energy Vertical Analysis, LLC > > Office: 404-350-8562 > > Cell: 404-456-5173 > > Fax: 413-691-5614 > > > > Joseph T. Pokalsky > Energy Vertical Analysis, LLC > Office: 404-350-8562 > Cell: 404-456-5173 > Fax: 413-691-5614 > Joseph T. Pokalsky Energy Vertical Analysis, LLC Office: 404-350-8562 Cell: 404-456-5173 Fax: 413-691-5614'}"
      ]
     },
     "execution_count": 285,
     "metadata": {},
     "output_type": "execute_result"
    }
   ],
   "source": [
    "documents[1]"
   ]
  },
  {
   "cell_type": "code",
   "execution_count": 168,
   "metadata": {},
   "outputs": [
    {
     "data": {
      "text/plain": [
       "[u\"it's\", u\"gareth's\", u'deal.']"
      ]
     },
     "execution_count": 168,
     "metadata": {},
     "output_type": "execute_result"
    }
   ],
   "source": [
    "sentences[1] "
   ]
  },
  {
   "cell_type": "code",
   "execution_count": 171,
   "metadata": {
    "collapsed": true
   },
   "outputs": [],
   "source": [
    "# creates nice output messages\n",
    "import logging\n",
    "logging.basicConfig(format='%(asctime)s : %(levelname)s : %(message)s',\\\n",
    "    level=logging.INFO)\n",
    "# Set values for various parameters\n",
    "num_features = 300    # Word vector dimensionality                      \n",
    "min_word_count = 400   # Minimum word count                        \n",
    "num_workers = 4       # Number of threads to run in parallel\n",
    "context = 10          # Context window size                                                                                    \n",
    "downsampling = 1e-3   # Downsample setting for frequent words"
   ]
  },
  {
   "cell_type": "code",
   "execution_count": 172,
   "metadata": {},
   "outputs": [
    {
     "name": "stderr",
     "output_type": "stream",
     "text": [
      "2017-08-09 20:59:37,248 : INFO : collecting all words and their counts\n",
      "2017-08-09 20:59:37,253 : INFO : PROGRESS: at sentence #0, processed 0 words, keeping 0 word types\n",
      "2017-08-09 20:59:37,425 : INFO : PROGRESS: at sentence #10000, processed 300183 words, keeping 35086 word types\n"
     ]
    },
    {
     "name": "stdout",
     "output_type": "stream",
     "text": [
      "Training Model\n"
     ]
    },
    {
     "name": "stderr",
     "output_type": "stream",
     "text": [
      "2017-08-09 20:59:37,549 : INFO : PROGRESS: at sentence #20000, processed 516099 words, keeping 51436 word types\n",
      "2017-08-09 20:59:37,727 : INFO : PROGRESS: at sentence #30000, processed 753990 words, keeping 63595 word types\n",
      "2017-08-09 20:59:37,954 : INFO : PROGRESS: at sentence #40000, processed 989035 words, keeping 74024 word types\n",
      "2017-08-09 20:59:38,111 : INFO : PROGRESS: at sentence #50000, processed 1244035 words, keeping 81682 word types\n",
      "2017-08-09 20:59:38,293 : INFO : PROGRESS: at sentence #60000, processed 1486494 words, keeping 91310 word types\n",
      "2017-08-09 20:59:38,556 : INFO : PROGRESS: at sentence #70000, processed 1717779 words, keeping 96406 word types\n",
      "2017-08-09 20:59:38,749 : INFO : PROGRESS: at sentence #80000, processed 2000703 words, keeping 109772 word types\n",
      "2017-08-09 20:59:39,006 : INFO : PROGRESS: at sentence #90000, processed 2240408 words, keeping 113271 word types\n",
      "2017-08-09 20:59:39,218 : INFO : PROGRESS: at sentence #100000, processed 2476609 words, keeping 116307 word types\n",
      "2017-08-09 20:59:39,422 : INFO : PROGRESS: at sentence #110000, processed 2721287 words, keeping 119403 word types\n",
      "2017-08-09 20:59:39,604 : INFO : PROGRESS: at sentence #120000, processed 2961515 words, keeping 121383 word types\n",
      "2017-08-09 20:59:39,695 : INFO : collected 121879 word types from a corpus of 3113879 raw words and 127736 sentences\n",
      "2017-08-09 20:59:39,697 : INFO : Loading a fresh vocabulary\n",
      "2017-08-09 20:59:39,869 : INFO : min_count=400 retains 933 unique words (0% of original 121879, drops 120946)\n",
      "2017-08-09 20:59:39,872 : INFO : min_count=400 leaves 1805440 word corpus (57% of original 3113879, drops 1308439)\n",
      "2017-08-09 20:59:39,888 : INFO : deleting the raw counts dictionary of 121879 items\n",
      "2017-08-09 20:59:39,902 : INFO : sample=0.001 downsamples 54 most-common words\n",
      "2017-08-09 20:59:39,905 : INFO : downsampling leaves estimated 1210283 word corpus (67.0% of prior 1805440)\n",
      "2017-08-09 20:59:39,908 : INFO : estimated required memory for 933 words and 300 dimensions: 2705700 bytes\n",
      "2017-08-09 20:59:39,919 : INFO : resetting layer weights\n",
      "2017-08-09 20:59:39,968 : INFO : training model with 4 workers on 933 vocabulary and 300 features, using sg=0 hs=0 sample=0.001 negative=5 window=10\n",
      "2017-08-09 20:59:40,982 : INFO : PROGRESS: at 3.86% examples, 252468 words/s, in_qsize 8, out_qsize 0\n",
      "2017-08-09 20:59:41,983 : INFO : PROGRESS: at 13.22% examples, 410694 words/s, in_qsize 8, out_qsize 0\n",
      "2017-08-09 20:59:42,996 : INFO : PROGRESS: at 20.38% examples, 413570 words/s, in_qsize 8, out_qsize 0\n",
      "2017-08-09 20:59:43,999 : INFO : PROGRESS: at 32.04% examples, 488466 words/s, in_qsize 7, out_qsize 0\n",
      "2017-08-09 20:59:45,003 : INFO : PROGRESS: at 44.79% examples, 542132 words/s, in_qsize 8, out_qsize 0\n",
      "2017-08-09 20:59:46,004 : INFO : PROGRESS: at 60.34% examples, 606272 words/s, in_qsize 8, out_qsize 0\n",
      "2017-08-09 20:59:47,005 : INFO : PROGRESS: at 80.10% examples, 688340 words/s, in_qsize 8, out_qsize 0\n",
      "2017-08-09 20:59:47,763 : INFO : worker thread finished; awaiting finish of 3 more threads\n",
      "2017-08-09 20:59:47,770 : INFO : worker thread finished; awaiting finish of 2 more threads\n",
      "2017-08-09 20:59:47,771 : INFO : worker thread finished; awaiting finish of 1 more threads\n",
      "2017-08-09 20:59:47,771 : INFO : worker thread finished; awaiting finish of 0 more threads\n",
      "2017-08-09 20:59:47,772 : INFO : training on 15569395 raw words (6039990 effective words) took 7.8s, 774850 effective words/s\n",
      "2017-08-09 20:59:47,773 : INFO : precomputing L2-norms of word weight vectors\n"
     ]
    }
   ],
   "source": [
    "from gensim.models import word2vec\n",
    "print(\"Training Model\")\n",
    "\n",
    "model = word2vec.Word2Vec(sentences, workers=num_workers, \\\n",
    "            size=num_features, min_count = min_word_count, \\\n",
    "            window = context, sample = downsampling)\n",
    "\n",
    "\n",
    "model.init_sims(replace=True)\n",
    "\n"
   ]
  },
  {
   "cell_type": "markdown",
   "metadata": {},
   "source": [
    "## Model Checking ##\n",
    "\n",
    "A simple verification is made to understand about how the system has learned from the data. Since Enron extensively dealth with power, we wanted to verify how well the model deciphers the context of the emails"
   ]
  },
  {
   "cell_type": "code",
   "execution_count": 173,
   "metadata": {},
   "outputs": [
    {
     "data": {
      "text/plain": [
       "[(u'electricity', 0.6878064274787903),\n",
       " (u'utilities', 0.6165686845779419),\n",
       " (u'supply', 0.6113274097442627),\n",
       " (u'demand', 0.5968204140663147),\n",
       " (u'rates', 0.5378960371017456),\n",
       " (u'utility', 0.5223536491394043),\n",
       " (u\"california's\", 0.495941162109375),\n",
       " (u'plants', 0.485878050327301),\n",
       " (u'energy', 0.4827885031700134),\n",
       " (u'costs', 0.4771900475025177)]"
      ]
     },
     "execution_count": 173,
     "metadata": {},
     "output_type": "execute_result"
    }
   ],
   "source": [
    "model.most_similar(\"power\")"
   ]
  },
  {
   "cell_type": "markdown",
   "metadata": {},
   "source": [
    "We could see that power is related with Electricity, utilities ,supply and demand. It seems appropriate for the particular context."
   ]
  },
  {
   "cell_type": "markdown",
   "metadata": {},
   "source": [
    "# Clustering of Words to identify patterns in the dataset #"
   ]
  },
  {
   "cell_type": "markdown",
   "metadata": {},
   "source": [
    "We attempted to cluster documents.The only information clustering uses is the similarity between examples.Clustering groups examples based of their mutual similarities\n",
    "\n",
    "A good clustering is one that achieves:\n",
    "\n",
    "1. High within-cluster similarity\n",
    "2. Low inter-cluster similarity. \n",
    "\n",
    "We chose to evalluate various clustering models and evaluate them. We chose three clustering models to evaluated them based on silhouette metric."
   ]
  },
  {
   "cell_type": "markdown",
   "metadata": {},
   "source": [
    "### Choosing the Value of K\n",
    "\n",
    "We created multiple models with various clustering sizes and evaluated the model for various values of K."
   ]
  },
  {
   "cell_type": "markdown",
   "metadata": {},
   "source": [
    "## Perform K Means Clustering"
   ]
  },
  {
   "cell_type": "code",
   "execution_count": 236,
   "metadata": {
    "collapsed": true
   },
   "outputs": [],
   "source": [
    "from sklearn.metrics import silhouette_score\n",
    "\n",
    "\n",
    "cluster_sizes = [100,200,250,270,300,320,340,375,400,420,440,\n",
    "                 460,480,490,500,520,540]\n",
    "word_vectors = model.wv.syn0\n",
    "\n",
    "s = []\n",
    "for n_clusters in cluster_sizes:\n",
    "    kmeans = KMeans(n_clusters=n_clusters)\n",
    "    kmeans.fit(word_vectors)\n",
    "\n",
    "    labels = kmeans.labels_\n",
    "    centroids = kmeans.cluster_centers_\n",
    "\n",
    "    s.append(silhouette_score(word_vectors, labels, metric='euclidean'))\n",
    "\n"
   ]
  },
  {
   "cell_type": "code",
   "execution_count": 237,
   "metadata": {},
   "outputs": [
    {
     "data": {
      "image/png": "[encoded data removed]",
      "text/plain": [
       "<matplotlib.figure.Figure at 0x7fb9122bf950>"
      ]
     },
     "metadata": {},
     "output_type": "display_data"
    },
    {
     "name": "stdout",
     "output_type": "stream",
     "text": [
      "Best Value of K is 440\n",
      "Best value of Silhouette score is  0.0882703\n"
     ]
    }
   ],
   "source": [
    "import pylab as plt\n",
    "plt.title(\"Silouette for K means for documents\")\n",
    "plt.xlabel(\"K Values\")\n",
    "plt.ylabel(\"Silouette\")\n",
    "plt.plot(cluster_sizes,s, 'r')\n",
    "plt.xticks(cluster_sizes, cluster_sizes, rotation='vertical')\n",
    "plt.show()\n",
    "print \"Best Value of K is\",cluster_sizes[s.index(max(s))]\n",
    "print \"Best value of Silhouette score is \", max(s)"
   ]
  },
  {
   "cell_type": "markdown",
   "metadata": {},
   "source": [
    "## Perform Agglomerative Clustering\n"
   ]
  },
  {
   "cell_type": "markdown",
   "metadata": {},
   "source": [
    "The AgglomerativeClustering object performs a hierarchical clustering using a bottom up approach: each observation starts in its own cluster, and clusters are successively merged together[ Scikit Learn Documentation]. We used Ward linkage strategy.\n",
    "\n",
    " Ward clustering stWard minimizes the sum of squared differences within all clusters. It is a variance-minimizing approach and in this sense is similar to the k-means objective function but tackled with an agglomerative hierarchical approach. "
   ]
  },
  {
   "cell_type": "code",
   "execution_count": 242,
   "metadata": {
    "collapsed": true
   },
   "outputs": [],
   "source": [
    "from sklearn.cluster import AgglomerativeClustering\n",
    "\n",
    "cluster_sizes = [100,200,250,270,300,320,340,375,400,420,440,460,480,490,500,520,540]\n",
    "word_vectors = model.wv.syn0\n",
    "\n",
    "s = []\n",
    "for n_clusters in cluster_sizes:\n",
    "    ward = AgglomerativeClustering(n_clusters=n_clusters, linkage='ward')\\\n",
    "            .fit(word_vectors)\n",
    "\n",
    "    labels = ward.labels_\n",
    "    s.append(silhouette_score(word_vectors, labels, metric='euclidean'))\n"
   ]
  },
  {
   "cell_type": "code",
   "execution_count": 243,
   "metadata": {},
   "outputs": [
    {
     "data": {
      "image/png": "[encoded data removed]",
      "text/plain": [
       "<matplotlib.figure.Figure at 0x7fb91203ca10>"
      ]
     },
     "metadata": {},
     "output_type": "display_data"
    },
    {
     "name": "stdout",
     "output_type": "stream",
     "text": [
      "Best Value of K is 375\n",
      "Best value of Silhouette score is  0.113715\n"
     ]
    }
   ],
   "source": [
    "import pylab as plt\n",
    "plt.title(\"Silouette for Agglomerative Clustering for documents\")\n",
    "plt.xlabel(\"K Values\")\n",
    "plt.ylabel(\"Silouette\")\n",
    "plt.plot(cluster_sizes,s, 'r')\n",
    "plt.xticks(cluster_sizes, cluster_sizes, rotation='vertical')\n",
    "plt.show()\n",
    "print \"Best Value of K is\",cluster_sizes[s.index(max(s))]\n",
    "print \"Best value of Silhouette score is \", max(s)"
   ]
  },
  {
   "cell_type": "markdown",
   "metadata": {},
   "source": [
    "## Perform DBScan ##"
   ]
  },
  {
   "cell_type": "code",
   "execution_count": 268,
   "metadata": {},
   "outputs": [
    {
     "name": "stdout",
     "output_type": "stream",
     "text": [
      "Silhouette Coefficient: 0.010\n",
      "Total Number of Clusters  4\n"
     ]
    }
   ],
   "source": [
    "import numpy as np\n",
    "from sklearn.cluster import DBSCAN\n",
    "from sklearn import metrics\n",
    "\n",
    "db = DBSCAN(eps=0.9, min_samples=10).fit(word_vectors)\n",
    "core_samples_mask = np.zeros_like(db.labels_, dtype=bool)\n",
    "core_samples_mask[db.core_sample_indices_] = True\n",
    "labels = db.labels_\n",
    "\n",
    "# Number of clusters in labels, ignoring noise if present.\n",
    "n_clusters_ = len(set(labels)) - (1 if -1 in labels else 0)\n",
    "\n",
    "print(\"Silhouette Coefficient: %0.3f\"\n",
    "      % metrics.silhouette_score(word_vectors, labels))\n",
    "\n",
    "print \"Total Number of Clusters \" ,n_clusters_"
   ]
  },
  {
   "cell_type": "markdown",
   "metadata": {},
   "source": [
    "### Interpretation of silhouette  Values and Choosing the value of K ###\n",
    "\n",
    "We attempted to choose the optimal number of clusters for our exploration. The choice of K was done using Silouette coefficient. A Silhouette value describes a measure of how close each point in one cluster is to points in the neighboring clusters \n",
    "\n",
    "Silhouette index (overall average silhouette) a larger Silhouette value indicates a better quality of a clustering result [Chen et al. 2002]\n",
    "\n",
    "Below table explains about the structural integrity of the silhouette number. \n",
    "\n",
    "\n",
    "|Range of SC | Interpretation                   |\n",
    "|------------|----------------------------------|\n",
    "|   0.71-1.0 | A strong structure has been found|\n",
    "|   0.51-0.70 |A reasonable structure has been found|\n",
    "|   0.26-0.50 | The structure is weak and could be artificial|\n",
    "| less than 0.25 | No substantial structure has been found|\n"
   ]
  },
  {
   "cell_type": "markdown",
   "metadata": {},
   "source": [
    "### Comparision of Various Clustering Algorithms"
   ]
  },
  {
   "cell_type": "markdown",
   "metadata": {},
   "source": [
    "\n",
    "|Algorithm | Number of Clusters                 |   Best Silhoutte value |\n",
    "|------------|----------------------------------|------------------------|\n",
    "| Hierarchical Clustering | 375|0.113715|\n",
    "| K Means | 440| 0.0882703 |\n",
    "| DB Scan | 4| 0.010|\n",
    "\n",
    "\n",
    "From the above table, it could be concluded that hierarchical clustering performed the best. However, the documents did not have a substantial structure. We would examine these 375 Clusters to see how various documents are structured."
   ]
  },
  {
   "cell_type": "markdown",
   "metadata": {},
   "source": [
    "### Clustering of Words to identify Patterns in the dataset"
   ]
  },
  {
   "cell_type": "markdown",
   "metadata": {},
   "source": [
    "We chose hierarchical clustering with 375 Clusters as it gave us the Best silhoutte value. The source code below shows how the model was built"
   ]
  },
  {
   "cell_type": "code",
   "execution_count": 271,
   "metadata": {},
   "outputs": [
    {
     "name": "stdout",
     "output_type": "stream",
     "text": [
      "Time taken for Agglomerative clustering:  0.623178005219 seconds.\n"
     ]
    }
   ],
   "source": [
    "from sklearn.cluster import AgglomerativeClustering\n",
    "import time\n",
    "\n",
    "start = time.time() # Start time\n",
    "\n",
    "# Set \"k\" (num_clusters) to be 1/5th of the vocabulary size, or an\n",
    "# average of 5 words per cluster\n",
    "word_vectors = model.wv.syn0\n",
    "num_clusters = 375\n",
    "\n",
    "# Initalize a k-means object and use it to extract centroids\n",
    "ward = AgglomerativeClustering(n_clusters=n_clusters, linkage='ward')\\\n",
    "        .fit(word_vectors)\n",
    "#Compute cluster centers and predict cluster index for each sample.\n",
    "idx = ward.fit_predict( word_vectors )\n",
    "\n",
    "# Get the end time and print how long the process took\n",
    "end = time.time()\n",
    "elapsed = end - start\n",
    "print \"Time taken for Agglomerative clustering: \", elapsed, \"seconds.\""
   ]
  },
  {
   "cell_type": "code",
   "execution_count": 272,
   "metadata": {
    "collapsed": true
   },
   "outputs": [],
   "source": [
    "# Create a Word / Index dictionary, mapping each vocabulary word to\n",
    "# a cluster number                                                                                            \n",
    "word_centroid_map = dict(zip( model.wv.index2word, idx ))"
   ]
  },
  {
   "cell_type": "code",
   "execution_count": 279,
   "metadata": {
    "scrolled": false
   },
   "outputs": [
    {
     "name": "stdout",
     "output_type": "stream",
     "text": [
      "\n",
      "Cluster 53\n",
      "[u'iso', u'agency', u'ferc']\n",
      "\n",
      "Cluster 54\n",
      "[u'system', u'transmission']\n",
      "\n",
      "Cluster 55\n",
      "[u'documents', u'kay']\n",
      "\n",
      "Cluster 56\n",
      "[u'assistant', u'secretary']\n",
      "\n",
      "Cluster 57\n",
      "[u'chief', u'andrew', u'former', u'officer']\n"
     ]
    }
   ],
   "source": [
    "# Exploration of few clusters\n",
    "for cluster in xrange(53,58):\n",
    "    #\n",
    "    # Print the cluster number  \n",
    "    print \"\\nCluster %d\" % cluster\n",
    "    #\n",
    "    # Find all of the words for that cluster number, and print them out\n",
    "    words = []\n",
    "    for i in xrange(0,len(word_centroid_map.values())):\n",
    "        if( word_centroid_map.values()[i] == cluster ):\n",
    "            words.append(word_centroid_map.keys()[i])\n",
    "    print words"
   ]
  },
  {
   "cell_type": "markdown",
   "metadata": {},
   "source": [
    "# Results"
   ]
  },
  {
   "cell_type": "markdown",
   "metadata": {},
   "source": [
    "From examining various clusters, it has been determined that there are five discrete clusters of information. The following are the groups and the related set of key words that would be related with True positives."
   ]
  },
  {
   "cell_type": "markdown",
   "metadata": {},
   "source": [
    "*Government* : \n",
    "\n",
    "* Cluster 6 :[u'bill', u'senate', u'house']\n",
    "* Cluster 319 :[u'regulatory', u'federal']\n",
    "* Cluster 90 :[u'u.s.', u'government']"
   ]
  },
  {
   "cell_type": "markdown",
   "metadata": {},
   "source": [
    "\n",
    "Enron Operation:\n",
    "\n",
    "* Cluster 31 :[u'systems', u'management', u'technology', u'marketing']\n",
    "* Cluster 54 :[u'system', u'transmission']\n",
    "* Cluster 75 :[u'plants', u'generators', u'costs']\n",
    "* Cluster 81 :[u'rates', u'pay', u'cut']\n",
    "* Cluster 121: [u'electricity', u'power']  \n",
    "* Cluster 50: [u'plant', u'generation']\n",
    "* Cluster 350: [u'industry']\n",
    "* Cluster 351: [u'houston']\n",
    "* Cluster 352 :[u'support']\n",
    "* Cluster 353 :[u'sales']\n",
    "* Cluster 219: [u'crisis', u\"california's\"]\n",
    "* Cluster 89: [u'international', u'account']"
   ]
  },
  {
   "cell_type": "markdown",
   "metadata": {},
   "source": [
    " Legal Agreements :\n",
    "\n",
    "* Cluster 22: [u'agreement.', u'section', u'language', u'form']\n",
    "* Cluster 125: [u'general', u'attorney', u'counsel']\n",
    "* Cluster 229: [u'legally', u'otherwise']\n",
    "* Cluster 58:[u'evidence', u',s']\n",
    "* Cluster 173 :[u'opinion', u'text', u'summary']\n",
    "* Cluster 178:[u'contracts', u'long-term']\n",
    "\n",
    "Stocks, Bonds and Traded Securities:\n",
    "\n",
    "* Cluster 193: [u'shares', u'stock']\n",
    "* Cluster 72 [u'exchange', u'commission', u'securities']\n",
    "* Cluster 66 [u'employees', u'options']\n",
    "* Cluster 68: [u\"company's\", u'investors', u\"enron's\"]\n",
    "* Cluster 46: [u'rating', u'bonds', u'bond', u'debt']\n",
    "* Cluster 257 :[u'sell', u'buy']\n",
    "* Cluster 126: [u'rate', u'increase']\n",
    "\n",
    "*People :*\n",
    "\n",
    "* Cluster 71: [u'paul', u'peter']\n",
    "* Cluster 373 :[u'steve', u'jim', u'tom', u'john', u'mike', u'chris']"
   ]
  },
  {
   "cell_type": "markdown",
   "metadata": {},
   "source": [
    "# Conclusion and Recommendation:\n",
    "\n",
    "From the above results, it can be concluded that these five categories and the list of keywords would more likely be associated with true positive values and can be used for filtering out true positives. Careful examination of the output for these categories are required so that true positive emails can be extracted from this data. Once these emails are obtained, we can then create a superivsed model that can detect PII with much greater acccuracy.\n",
    "\n"
   ]
  }
 ],
 "metadata": {
  "kernelspec": {
   "display_name": "Python 3",
   "language": "python",
   "name": "python3"
  },
  "language_info": {
   "codemirror_mode": {
    "name": "ipython",
    "version": 3
   },
   "file_extension": ".py",
   "mimetype": "text/x-python",
   "name": "python",
   "nbconvert_exporter": "python",
   "pygments_lexer": "ipython3",
   "version": "3.4.2"
  }
 },
 "nbformat": 4,
 "nbformat_minor": 2
}
